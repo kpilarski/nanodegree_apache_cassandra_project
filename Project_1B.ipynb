{
 "cells": [
  {
   "cell_type": "markdown",
   "metadata": {
    "editable": true
   },
   "source": [
    "# Part I. ETL Pipeline for Pre-Processing the Files"
   ]
  },
  {
   "cell_type": "markdown",
   "metadata": {
    "editable": true
   },
   "source": [
    "## PLEASE RUN THE FOLLOWING CODE FOR PRE-PROCESSING THE FILES"
   ]
  },
  {
   "cell_type": "markdown",
   "metadata": {
    "editable": true
   },
   "source": [
    "#### Import Python packages "
   ]
  },
  {
   "cell_type": "code",
   "execution_count": null,
   "metadata": {
    "editable": true
   },
   "outputs": [],
   "source": [
    "# Import Python packages \n",
    "import pandas as pd\n",
    "import cassandra\n",
    "import re\n",
    "import os\n",
    "import glob\n",
    "import numpy as np\n",
    "import json\n",
    "import csv"
   ]
  },
  {
   "cell_type": "markdown",
   "metadata": {
    "editable": true
   },
   "source": [
    "#### Creating list of filepaths to process original event csv data files"
   ]
  },
  {
   "cell_type": "code",
   "execution_count": null,
   "metadata": {
    "editable": true
   },
   "outputs": [],
   "source": [
    "# checking your current working directory\n",
    "print(os.getcwd())\n",
    "\n",
    "# Get your current folder and subfolder event data\n",
    "filepath = os.getcwd() + '/event_data'\n",
    "\n",
    "# Create a for loop to create a list of files and collect each filepath\n",
    "for root, dirs, files in os.walk(filepath):\n",
    "    \n",
    "# join the file path and roots with the subdirectories using glob\n",
    "    file_path_list = glob.glob(os.path.join(root,'*'))\n",
    "    print(file_path_list)"
   ]
  },
  {
   "cell_type": "markdown",
   "metadata": {
    "editable": true
   },
   "source": [
    "#### Processing the files to create the data file csv that will be used for Apache Casssandra tables"
   ]
  },
  {
   "cell_type": "code",
   "execution_count": null,
   "metadata": {
    "editable": true
   },
   "outputs": [],
   "source": [
    "# initiating an empty list of rows that will be generated from each file\n",
    "full_data_rows_list = [] \n",
    "    \n",
    "# for every filepath in the file path list \n",
    "for f in file_path_list:\n",
    "\n",
    "# reading csv file \n",
    "    with open(f, 'r', encoding = 'utf8', newline='') as csvfile: \n",
    "        # creating a csv reader object \n",
    "        csvreader = csv.reader(csvfile) \n",
    "        next(csvreader)\n",
    "        \n",
    " # extracting each data row one by one and append it        \n",
    "        for line in csvreader:\n",
    "            #print(line)\n",
    "            full_data_rows_list.append(line) \n",
    "            \n",
    "# uncomment the code below if you would like to get total number of rows \n",
    "#print(len(full_data_rows_list))\n",
    "# uncomment the code below if you would like to check to see what the list of event data rows will look like\n",
    "#print(full_data_rows_list)\n",
    "\n",
    "# creating a smaller event data csv file called event_datafile_full csv that will be used to insert data into the \\\n",
    "# Apache Cassandra tables\n",
    "csv.register_dialect('myDialect', quoting=csv.QUOTE_ALL, skipinitialspace=True)\n",
    "\n",
    "with open('event_datafile_new.csv', 'w', encoding = 'utf8', newline='') as f:\n",
    "    writer = csv.writer(f, dialect='myDialect')\n",
    "    writer.writerow(['artist','firstName','gender','itemInSession','lastName','length',\\\n",
    "                'level','location','sessionId','song','userId'])\n",
    "    for row in full_data_rows_list:\n",
    "        if (row[0] == ''):\n",
    "            continue\n",
    "        writer.writerow((row[0], row[2], row[3], row[4], row[5], row[6], row[7], row[8], row[12], row[13], row[16]))\n"
   ]
  },
  {
   "cell_type": "code",
   "execution_count": null,
   "metadata": {
    "editable": true
   },
   "outputs": [],
   "source": [
    "# check the number of rows in your csv file\n",
    "with open('event_datafile_new.csv', 'r', encoding = 'utf8') as f:\n",
    "    print(sum(1 for line in f))"
   ]
  },
  {
   "cell_type": "markdown",
   "metadata": {
    "editable": true
   },
   "source": [
    "# Part II. Complete the Apache Cassandra coding portion of your project. \n",
    "\n",
    "## Now you are ready to work with the CSV file titled <font color=red>event_datafile_new.csv</font>, located within the Workspace directory.  The event_datafile_new.csv contains the following columns: \n",
    "- artist \n",
    "- firstName of user\n",
    "- gender of user\n",
    "- item number in session\n",
    "- last name of user\n",
    "- length of the song\n",
    "- level (paid or free song)\n",
    "- location of the user\n",
    "- sessionId\n",
    "- song title\n",
    "- userId\n",
    "\n",
    "The image below is a screenshot of what the denormalized data should appear like in the <font color=red>**event_datafile_new.csv**</font> after the code above is run:<br>\n",
    "\n",
    "<img src=\"images/image_event_datafile_new.jpg\">"
   ]
  },
  {
   "cell_type": "markdown",
   "metadata": {
    "editable": true
   },
   "source": [
    "## Begin writing your Apache Cassandra code in the cells below"
   ]
  },
  {
   "cell_type": "markdown",
   "metadata": {
    "editable": true
   },
   "source": [
    "#### Creating a Cluster"
   ]
  },
  {
   "cell_type": "code",
   "execution_count": null,
   "metadata": {
    "editable": true
   },
   "outputs": [],
   "source": [
    "# This should make a connection to a Cassandra instance your local machine \n",
    "# (127.0.0.1)\n",
    "\n",
    "from cassandra.cluster import Cluster\n",
    "cluster = Cluster()\n",
    "\n",
    "# To establish connection and begin executing queries, need a session\n",
    "session = cluster.connect()"
   ]
  },
  {
   "cell_type": "markdown",
   "metadata": {
    "editable": true
   },
   "source": [
    "#### Create Keyspace"
   ]
  },
  {
   "cell_type": "code",
   "execution_count": null,
   "metadata": {
    "editable": true
   },
   "outputs": [],
   "source": [
    "# Creating a Keyspace \n",
    "try:\n",
    "    session.execute(\"\"\"\n",
    "    CREATE KEYSPACE IF NOT EXISTS udacity \n",
    "    WITH REPLICATION = \n",
    "    { 'class' : 'SimpleStrategy', 'replication_factor' : 1 }\"\"\"\n",
    ")\n",
    "\n",
    "except Exception as e:\n",
    "    print(e)"
   ]
  },
  {
   "cell_type": "markdown",
   "metadata": {
    "editable": true
   },
   "source": [
    "#### Set Keyspace"
   ]
  },
  {
   "cell_type": "code",
   "execution_count": null,
   "metadata": {
    "editable": true
   },
   "outputs": [],
   "source": [
    "# Setting Keyspace\n",
    "try:\n",
    "    session.set_keyspace('udacity')\n",
    "except:\n",
    "    print(e)"
   ]
  },
  {
   "cell_type": "markdown",
   "metadata": {
    "editable": true
   },
   "source": [
    "#### 1) Query description: Give me the artist, song title and song's length in the music app history that was heard during sessionId = 338, and itemInSession = 4\n",
    "##### _\n",
    "##### 1. Designing database model in Apache Cassandra we need to think Queries first - in our scenario our query will look like: \n",
    "`SELECT artist, song, song_length FROM session_songs WHERE sessionId = 338 AND itemInSession = 4`\n",
    "##### 2. Our <em>PRIMARY KEY</em> will consist of: \n",
    "###### Partition key: `sessionId`\n",
    "###### Clustering Key `itemInSession`\n",
    "###### That will allow us filter by these attributes.\n",
    "##### 3. Our table will contain the following tables: \n",
    "- `sessionId INT PK`\n",
    "- `itemInSession INT PK`\n",
    "- `artist TEXT` \n",
    "- `song TEXT`\n",
    "- `song_length FLOAT`"
   ]
  },
  {
   "cell_type": "code",
   "execution_count": null,
   "metadata": {
    "editable": true
   },
   "outputs": [],
   "source": [
    "## Defining queries and executing them\n",
    "query_drop = \"DROP TABLE IF EXISTS session_songs\"\n",
    "query_create = \"CREATE TABLE IF NOT EXISTS session_songs \"\n",
    "query_create = query_create + \"(sessionId INT, itemInSession INT, artist TEXT, song TEXT, song_length FLOAT, PRIMARY KEY(sessionId, itemInSession))\"\n",
    "try:\n",
    "    session.execute(query_drop)\n",
    "    session.execute(query_create)\n",
    "except Exception as e:\n",
    "    print(e)\n",
    "    \n",
    "                    "
   ]
  },
  {
   "cell_type": "code",
   "execution_count": null,
   "metadata": {
    "editable": true
   },
   "outputs": [],
   "source": [
    "# Process of inserting data to table\n",
    "file = 'event_datafile_new.csv'\n",
    "\n",
    "with open(file, encoding = 'utf8') as f:\n",
    "    csvreader = csv.reader(f)\n",
    "    next(csvreader) # skip header\n",
    "    total = 0\n",
    "    for index, line in enumerate(csvreader):\n",
    "        if index % 1000 == 0 and index > 0:\n",
    "            print(f'Inserted rows: {index}')\n",
    "        query_insert = \"INSERT INTO session_songs (sessionId, itemInSession, artist, song, song_length)\"\n",
    "        query_insert = query_insert + \" VALUES (%s, %s, %s, %s, %s)\"\n",
    "        artist, user_firstname, gender, itemInSession, user_lastname, song_length, level, location, sessionId, song, userId = line\n",
    "        session.execute(query_insert, (int(sessionId), int(itemInSession), artist, song, float(song_length)))\n",
    "        total += 1\n",
    "    print(f\"Total rows inserted: {total}\")"
   ]
  },
  {
   "cell_type": "code",
   "execution_count": null,
   "metadata": {
    "editable": true,
    "scrolled": true
   },
   "outputs": [],
   "source": [
    "## Veryfing our table with appropriate SELECT query and print each row\n",
    "first_query_select = \"SELECT artist, song, song_length FROM session_songs WHERE sessionId = 338 AND itemInSession = 4\"\n",
    "rows = session.execute(first_query_select)\n",
    "\n",
    "dataframe_data = []\n",
    "for row in rows:\n",
    "    print(f\"{row.artist} | {row.song} | {row.song_length}\")\n",
    "    row_data = ({\n",
    "        \"artist\": row.artist,\n",
    "        \"song\": row.song,\n",
    "        \"song_length\": row.song_length\n",
    "    })\n",
    "    dataframe_data.append(row_data)\n",
    "query_dataframe = pd.DataFrame(dataframe_data)"
   ]
  },
  {
   "cell_type": "code",
   "execution_count": null,
   "metadata": {
    "editable": true
   },
   "outputs": [],
   "source": [
    "## Presenting results from SELECT query with Pandas dataframe\n",
    "query_dataframe"
   ]
  },
  {
   "cell_type": "code",
   "execution_count": null,
   "metadata": {
    "editable": true
   },
   "outputs": [],
   "source": []
  },
  {
   "cell_type": "markdown",
   "metadata": {
    "editable": true
   },
   "source": [
    "#### 2) Query description: Give me only the following: name of artist, song (sorted by itemInSession) and user (first and last name) for userid = 10, sessionid = 182\n",
    "##### _\n",
    "##### 1. Designing database model in Apache Cassandra we need to think Queries first - in our scenario our query will look like: \n",
    "`SELECT itemInSession, artist, song, user_firstname, user_lastname FROM user_songs WHERE userId = 10 AND sessionId = 182`\n",
    "##### 2. Our <em>COMPOSITE PRIMARY KEY</em> will consist of: \n",
    "###### Partition key: `userId`\n",
    "###### Partition key: `sessionId`\n",
    "###### Clustering Key `itemInSession`\n",
    "###### That will allow us filter by these attributes.\n",
    "##### 3. Our table will contain the following tables: \n",
    "- `userId INT PK`\n",
    "- `sessionId INT PK`\n",
    "- `artist TEXT` \n",
    "- `song TEXT`\n",
    "- `user_firstname TEXT`\n",
    "- `user_lastname TEXT`\n",
    "- `itemInSession INT PK`"
   ]
  },
  {
   "cell_type": "code",
   "execution_count": null,
   "metadata": {
    "editable": true
   },
   "outputs": [],
   "source": [
    "## Defining queries and executing them\n",
    "query_drop = \"DROP TABLE IF EXISTS user_songs\"\n",
    "query_create = \"CREATE TABLE IF NOT EXISTS user_songs \"\n",
    "query_create = query_create + \"(userId INT, sessionId INT, artist TEXT, song TEXT, user_firstname TEXT, user_lastname TEXT, itemInSession INT, PRIMARY KEY((userId, sessionId), itemInSession))\"\n",
    "try:\n",
    "    session.execute(query_drop)\n",
    "    session.execute(query_create)\n",
    "except Exception as e:\n",
    "    print(e)\n",
    "    "
   ]
  },
  {
   "cell_type": "code",
   "execution_count": null,
   "metadata": {
    "editable": true
   },
   "outputs": [],
   "source": [
    "## Process of inserting data to table\n",
    "file = 'event_datafile_new.csv'\n",
    "\n",
    "with open(file, encoding = 'utf8') as f:\n",
    "    csvreader = csv.reader(f)\n",
    "    next(csvreader) # skip header\n",
    "    total = 0\n",
    "    for index, line in enumerate(csvreader):\n",
    "        if index % 1000 == 0 and index > 0:\n",
    "            print(f'Inserted rows: {index}')\n",
    "        query = \"INSERT INTO user_songs (userId, sessionId, artist, song, user_firstname, user_lastname, itemInSession)\"\n",
    "        query = query + \" VALUES (%s, %s, %s, %s, %s, %s, %s)\"\n",
    "        artist, user_firstname, gender, itemInSession, user_lastname, song_length, level, location, sessionId, song, userId = line\n",
    "        session.execute(query, (int(userId), int(sessionId), artist, song, user_firstname, user_lastname, int(itemInSession)))\n",
    "        total += 1\n",
    "    print(f\"Total rows inserted: {total}\")"
   ]
  },
  {
   "cell_type": "code",
   "execution_count": null,
   "metadata": {
    "editable": true
   },
   "outputs": [],
   "source": [
    "## Veryfing our table with appropriate SELECT query and print each row\n",
    "first_query_select = \"SELECT itemInSession, artist, song, user_firstname, user_lastname FROM user_songs WHERE userId = 10 AND sessionId = 182\"\n",
    "rows = session.execute(first_query_select)\n",
    "\n",
    "dataframe_data = []\n",
    "for row in rows:\n",
    "    print(f\"{row.iteminsession} | {row.artist} | {row.song} | {row.user_firstname} | {row.user_lastname}\")\n",
    "    row_data = ({\n",
    "        \"itemInSession\": row.iteminsession,\n",
    "        \"artist\": row.artist,\n",
    "        \"song\": row.song,\n",
    "        \"user_firstname\": row.user_firstname,\n",
    "        \"user_lastname\": row.user_lastname\n",
    "    })\n",
    "    dataframe_data.append(row_data)\n",
    "query_dataframe = pd.DataFrame(dataframe_data)"
   ]
  },
  {
   "cell_type": "code",
   "execution_count": null,
   "metadata": {
    "editable": true
   },
   "outputs": [],
   "source": [
    "## Presenting results from SELECT query with Pandas dataframe\n",
    "query_dataframe"
   ]
  },
  {
   "cell_type": "code",
   "execution_count": null,
   "metadata": {
    "editable": true
   },
   "outputs": [],
   "source": []
  },
  {
   "cell_type": "markdown",
   "metadata": {
    "editable": true
   },
   "source": [
    "#### 3) Query description: Give me every user name (first and last) in my music app history who listened to the song 'All Hands Against His Own'\n",
    "##### _\n",
    "##### 1. Designing database model in Apache Cassandra we need to think Queries first - in our scenario our query will look like: \n",
    "`SELECT user_firstname, user_lastname FROM app_history WHERE song = 'All Hands Against His Own'`\n",
    "##### 2. Our <em>PRIMARY KEY</em> will consist of: \n",
    "###### Partition key: `song`\n",
    "###### Clustering Key `userId`\n",
    "###### That will allow us filter by these attributes.\n",
    "##### 3. Our table will contain the following tables: \n",
    "- `song INT PK`\n",
    "- `user_firstname TEXT` \n",
    "- `user_lastname TEXT`\n",
    "- `userId INT PK`\n"
   ]
  },
  {
   "cell_type": "code",
   "execution_count": null,
   "metadata": {
    "editable": true
   },
   "outputs": [],
   "source": [
    "## Defining queries and executing them\n",
    "query_drop = \"DROP TABLE IF EXISTS app_history\"\n",
    "query_create = \"CREATE TABLE IF NOT EXISTS app_history \"\n",
    "query_create = query_create + \"(song TEXT, user_firstname TEXT, user_lastname TEXT, userId INT, PRIMARY KEY(song, userId))\"\n",
    "try:\n",
    "    session.execute(query_drop)\n",
    "    session.execute(query_create)\n",
    "except Exception as e:\n",
    "    print(e)"
   ]
  },
  {
   "cell_type": "code",
   "execution_count": null,
   "metadata": {
    "editable": true
   },
   "outputs": [],
   "source": [
    "## Process of inserting data to table\n",
    "file = 'event_datafile_new.csv'\n",
    "\n",
    "with open(file, encoding = 'utf8') as f:\n",
    "    csvreader = csv.reader(f)\n",
    "    next(csvreader) # skip header\n",
    "    total = 0\n",
    "    for index, line in enumerate(csvreader):\n",
    "        if index % 1000 == 0 and index > 0:\n",
    "            print(f'Inserted rows: {index}')\n",
    "        query = \"INSERT INTO app_history (song, user_firstname, user_lastname, userId)\"\n",
    "        query = query + \" VALUES (%s, %s, %s, %s)\"\n",
    "        artist, user_firstname, gender, itemInSession, user_lastname, song_length, level, location, sessionId, song, userId = line\n",
    "        session.execute(query, (song, user_firstname, user_lastname, int(userId)))\n",
    "        total += 1\n",
    "    print(f\"Total rows inserted: {total}\")"
   ]
  },
  {
   "cell_type": "code",
   "execution_count": null,
   "metadata": {
    "editable": true
   },
   "outputs": [],
   "source": [
    "## Veryfing our table with appropriate SELECT query and print each row\n",
    "first_query_select = \"SELECT user_firstname, user_lastname FROM app_history WHERE song = 'All Hands Against His Own'\"\n",
    "rows = session.execute(first_query_select)\n",
    "\n",
    "dataframe_data = []\n",
    "for row in rows:\n",
    "    print(f\"{row.user_firstname} | {row.user_lastname}\")\n",
    "    row_data = ({\n",
    "        \"user_firstname\": row.user_firstname,\n",
    "        \"user_lastname\": row.user_lastname\n",
    "    })\n",
    "    dataframe_data.append(row_data)\n",
    "query_dataframe = pd.DataFrame(dataframe_data)"
   ]
  },
  {
   "cell_type": "code",
   "execution_count": null,
   "metadata": {
    "editable": true
   },
   "outputs": [],
   "source": [
    "## Presenting results from SELECT query with Pandas dataframe\n",
    "query_dataframe"
   ]
  },
  {
   "cell_type": "code",
   "execution_count": null,
   "metadata": {
    "editable": true
   },
   "outputs": [],
   "source": []
  },
  {
   "cell_type": "markdown",
   "metadata": {
    "editable": true
   },
   "source": [
    "## Dropping tables:"
   ]
  },
  {
   "cell_type": "code",
   "execution_count": null,
   "metadata": {
    "editable": true
   },
   "outputs": [],
   "source": [
    "## Drop the tables before closing out the sessions\n",
    "table_names = ['session_songs', 'user_songs', 'app_history']\n",
    "for table in table_names:\n",
    "    query_drop = f\"DROP TABLE IF EXISTS {table}\"\n",
    "    try:\n",
    "        session.execute(query_drop)\n",
    "        print(f\"Table '{table}' has been deleted\")\n",
    "    except Exception as e:\n",
    "        print(e)\n"
   ]
  },
  {
   "cell_type": "code",
   "execution_count": null,
   "metadata": {
    "editable": true
   },
   "outputs": [],
   "source": [
    "## Close the session and cluster connection\n",
    "session.shutdown()\n",
    "cluster.shutdown()"
   ]
  },
  {
   "cell_type": "code",
   "execution_count": null,
   "metadata": {
    "editable": true
   },
   "outputs": [],
   "source": []
  },
  {
   "cell_type": "code",
   "execution_count": null,
   "metadata": {
    "editable": true
   },
   "outputs": [],
   "source": []
  }
 ],
 "metadata": {
  "kernelspec": {
   "display_name": "Python 3",
   "language": "python",
   "name": "python3"
  },
  "language_info": {
   "codemirror_mode": {
    "name": "ipython",
    "version": 3
   },
   "file_extension": ".py",
   "mimetype": "text/x-python",
   "name": "python",
   "nbconvert_exporter": "python",
   "pygments_lexer": "ipython3",
   "version": "3.6.3"
  }
 },
 "nbformat": 4,
 "nbformat_minor": 4
}
